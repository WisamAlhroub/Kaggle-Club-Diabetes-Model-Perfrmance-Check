{
  "nbformat": 4,
  "nbformat_minor": 0,
  "metadata": {
    "colab": {
      "name": "Diabetes Notebook.ipynb",
      "provenance": [],
      "authorship_tag": "ABX9TyOf8brD0F+CFWh/Cc1iUms5",
      "include_colab_link": true
    },
    "kernelspec": {
      "name": "python3",
      "display_name": "Python 3"
    }
  },
  "cells": [
    {
      "cell_type": "markdown",
      "metadata": {
        "id": "view-in-github",
        "colab_type": "text"
      },
      "source": [
        "<a href=\"https://colab.research.google.com/github/WisamAlhroub/Kaggle-Club-Diabetes-Model-Perfrmance-Check/blob/main/Diabetes_Notebook.ipynb\" target=\"_parent\"><img src=\"https://colab.research.google.com/assets/colab-badge.svg\" alt=\"Open In Colab\"/></a>"
      ]
    },
    {
      "cell_type": "markdown",
      "metadata": {
        "id": "qqOGL-XDvSiO"
      },
      "source": [
        "# Diabetes Model Perfomrmance Check Using Confusion Matrix\r\n",
        "## Kaggle Club PPU\r\n",
        "## Name: Wisam Alhroub\r\n",
        " \r\n",
        "\r\n",
        "---\r\n",
        "\r\n",
        "*you can find this notebook on my GitHub: https://github.com/WisamAlhroub/Kaggle-Club-Diabetes-Model-Perfrmance-Check.git*\r\n",
        "\r\n"
      ]
    },
    {
      "cell_type": "markdown",
      "metadata": {
        "id": "Xsb3a-lyw-sz"
      },
      "source": [
        "## Basic Configuration"
      ]
    },
    {
      "cell_type": "markdown",
      "metadata": {
        "id": "g2e-z85Tv6Sa"
      },
      "source": [
        "1. Importing necessary libraries:"
      ]
    },
    {
      "cell_type": "code",
      "metadata": {
        "id": "zU_gREtZu7L3"
      },
      "source": [
        "import numpy as np\r\n",
        "import pandas as pd\r\n",
        "from sklearn.metrics import confusion_matrix"
      ],
      "execution_count": null,
      "outputs": []
    },
    {
      "cell_type": "markdown",
      "metadata": {
        "id": "eHANQxKov-qj"
      },
      "source": [
        "2. Importing the diabetes data stored in a *.tsv file:"
      ]
    },
    {
      "cell_type": "code",
      "metadata": {
        "id": "6XB3qOt4vReY"
      },
      "source": [
        ""
      ],
      "execution_count": null,
      "outputs": []
    }
  ]
}